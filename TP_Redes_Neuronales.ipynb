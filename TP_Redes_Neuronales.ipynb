{
  "nbformat": 4,
  "nbformat_minor": 0,
  "metadata": {
    "colab": {
      "provenance": []
    },
    "kernelspec": {
      "name": "python3",
      "display_name": "Python 3"
    },
    "language_info": {
      "name": "python"
    }
  },
  "cells": [
    {
      "cell_type": "markdown",
      "source": [
        "## TP REDES NEURONALES\n",
        "Ailén de Barbará, Tomás Schiavonne y Beltrán Cid\n",
        "4 TIC A"
      ],
      "metadata": {
        "id": "i9tCtUpD__DO"
      }
    },
    {
      "cell_type": "markdown",
      "source": [
        "Utilizamos el siguiente DATASET como base, para nosotros poder desarrollar un pequeño dataset propio:\n",
        "https://www.kaggle.com/code/jvedarutvija/music-genre-classification\n",
        "\n",
        "En el dataset vemos como el usuario tiene varios generos musicales en un archivo .csv. Nosotros lo que hicimos fue tomar esa idea como base y realizar una lista de listas en la cual le damos a cada lista un genero."
      ],
      "metadata": {
        "id": "WaD0nWO18FJ5"
      }
    },
    {
      "cell_type": "code",
      "execution_count": null,
      "metadata": {
        "id": "ZLJi7O0hCEn3"
      },
      "outputs": [],
      "source": [
        "import numpy as np\n",
        "import pandas as pd\n",
        "import matplotlib.pyplot as plt\n",
        "from IPython.display import HTML, display\n",
        "import tabulate\n",
        "import networkx as nx\n",
        "from random import random as rand\n",
        "import itertools"
      ]
    },
    {
      "cell_type": "code",
      "source": [
        "# Dataset\n"
      ],
      "metadata": {
        "id": "2oG-O5wZGgv1"
      },
      "execution_count": null,
      "outputs": []
    },
    {
      "cell_type": "code",
      "source": [
        "np.random.seed(1)"
      ],
      "metadata": {
        "id": "lUUgSMF_CM5m"
      },
      "execution_count": null,
      "outputs": []
    },
    {
      "cell_type": "code",
      "source": [
        "# Funciones\n",
        "def sigmoid(x):\n",
        "    return 1 / ( 1 + np.exp(-x) )\n",
        "\n",
        "# sigmoid = lambda x : 1 / ( 1 + np.exp(-x) )\n",
        "\n",
        "def sigmoid_derivative(x):\n",
        "    return x * (1 - x)\n",
        "\n",
        "# sigmoid_derivative = lambda x : x * (1 - x)"
      ],
      "metadata": {
        "id": "d-ylyCurCJpi"
      },
      "execution_count": null,
      "outputs": []
    },
    {
      "cell_type": "markdown",
      "source": [
        "  Función sigmoidea\n",
        "$$\\operatorname{f}(x)=\\frac{1}{1+e^{(-x)}}$$\n",
        "\n",
        "\n",
        "  Función derivada sigmoidea\n",
        "$$\\operatorname{f'}(x)=x \\times (1-x)$$"
      ],
      "metadata": {
        "id": "R5ycxQ3TFT8S"
      }
    },
    {
      "cell_type": "code",
      "source": [
        "# Visualizacion funcion\n",
        "x = np.linspace(-5,5,100)\n",
        "y = sigmoid(x)\n",
        "fig = plt.figure()\n",
        "ax = fig.add_subplot(1, 1, 1)\n",
        "\n",
        "ax.spines['left'].set_position('center')\n",
        "ax.spines['right'].set_color('none')\n",
        "ax.spines['top'].set_color('none')\n",
        "\n",
        "plt.plot(x, y)\n",
        "plt.locator_params(axis='y', nbins=3)\n",
        "plt.yticks(fontsize=18)\n",
        "plt.xticks(fontsize=18)\n",
        "plt.grid()"
      ],
      "metadata": {
        "colab": {
          "base_uri": "https://localhost:8080/",
          "height": 440
        },
        "id": "_T8o08_KGUpQ",
        "outputId": "b91c7dc5-a34b-4f42-a0a1-ee1100a71535"
      },
      "execution_count": null,
      "outputs": [
        {
          "output_type": "display_data",
          "data": {
            "text/plain": [
              "<Figure size 640x480 with 1 Axes>"
            ],
            "image/png": "[encoded data removed]"
          },
          "metadata": {}
        }
      ]
    },
    {
      "cell_type": "markdown",
      "source": [
        "## PROBLEMA A RESOLVER\n",
        "La red neuronal debe predecir si una persona esta alegre, no alegre, o neutral en base a la musica que escucha. Los array son del tipo de musica y los index las caracteristicas cada estilo.\n",
        "\n",
        "- 0: Clasica\n",
        "- 1: Trap\n",
        "- 2: Reguetton\n",
        "- 3: Heavy Metal\n",
        "- 4: Rock\n",
        "- 5: Lento\n",
        "- 6: Bachata"
      ],
      "metadata": {
        "id": "jcBUd0o53nxa"
      }
    },
    {
      "cell_type": "code",
      "source": [
        "# Determinamos los outputs: Alegre, no alegra o neutral\n",
        "training_inputs = np.array([\n",
        "    [0,0,1,1,0,1,1],\n",
        "    [1,1,0,0,1,0,0],\n",
        "    [1,0,1,0,0,1,0],\n",
        "    [0,1,1,0,1,1,1],\n",
        "    [1,0,0,1,1,0,0],\n",
        "    [0,0,0,1,1,0,1],\n",
        "    [1,1,1,1,0,0,0]\n",
        "])\n",
        "\n",
        "training_outputs = np.array([\n",
        "    [1,1,1,0,1,0,1],\n",
        "    [0,0,0,1,0,1,0],\n",
        "    [1,1,0,0,0,0,1]\n",
        "]).T\n",
        "\n",
        "print(\"inputs: \", training_inputs)\n",
        "print(\"outputs: \", training_outputs)"
      ],
      "metadata": {
        "colab": {
          "base_uri": "https://localhost:8080/"
        },
        "id": "IJe-z6WUCH98",
        "outputId": "095cabf1-1838-4f6b-fe8c-e4c2c04d6acc"
      },
      "execution_count": null,
      "outputs": [
        {
          "output_type": "stream",
          "name": "stdout",
          "text": [
            "inputs:  [[0 0 1 1 0 1 1]\n",
            " [1 1 0 0 1 0 0]\n",
            " [1 0 1 0 0 1 0]\n",
            " [0 1 1 0 1 1 1]\n",
            " [1 0 0 1 1 0 0]\n",
            " [0 0 0 1 1 0 1]\n",
            " [1 1 1 1 0 0 0]]\n",
            "outputs:  [[1 0 1]\n",
            " [1 0 1]\n",
            " [1 0 0]\n",
            " [0 1 0]\n",
            " [1 0 0]\n",
            " [0 1 0]\n",
            " [1 0 1]]\n"
          ]
        }
      ]
    },
    {
      "cell_type": "code",
      "source": [
        "training_values = np.concatenate((training_inputs.T, training_outputs.T)).T\n",
        "table = lambda arr : display(HTML(tabulate.tabulate(arr, tablefmt='html')))\n",
        "table(training_values)"
      ],
      "metadata": {
        "colab": {
          "base_uri": "https://localhost:8080/",
          "height": 162
        },
        "id": "PCajxnvAdyhl",
        "outputId": "84d8cecd-b512-493f-daf6-58fd136882f8"
      },
      "execution_count": null,
      "outputs": [
        {
          "output_type": "display_data",
          "data": {
            "text/plain": [
              "<IPython.core.display.HTML object>"
            ],
            "text/html": [
              "<table>\n",
              "<tbody>\n",
              "<tr><td style=\"text-align: right;\">0</td><td style=\"text-align: right;\">0</td><td style=\"text-align: right;\">1</td><td style=\"text-align: right;\">1</td><td style=\"text-align: right;\">0</td><td style=\"text-align: right;\">1</td><td style=\"text-align: right;\">1</td><td style=\"text-align: right;\">1</td><td style=\"text-align: right;\">0</td><td style=\"text-align: right;\">1</td></tr>\n",
              "<tr><td style=\"text-align: right;\">1</td><td style=\"text-align: right;\">1</td><td style=\"text-align: right;\">0</td><td style=\"text-align: right;\">0</td><td style=\"text-align: right;\">1</td><td style=\"text-align: right;\">0</td><td style=\"text-align: right;\">0</td><td style=\"text-align: right;\">1</td><td style=\"text-align: right;\">0</td><td style=\"text-align: right;\">1</td></tr>\n",
              "<tr><td style=\"text-align: right;\">1</td><td style=\"text-align: right;\">0</td><td style=\"text-align: right;\">1</td><td style=\"text-align: right;\">0</td><td style=\"text-align: right;\">0</td><td style=\"text-align: right;\">1</td><td style=\"text-align: right;\">0</td><td style=\"text-align: right;\">1</td><td style=\"text-align: right;\">0</td><td style=\"text-align: right;\">0</td></tr>\n",
              "<tr><td style=\"text-align: right;\">0</td><td style=\"text-align: right;\">1</td><td style=\"text-align: right;\">1</td><td style=\"text-align: right;\">0</td><td style=\"text-align: right;\">1</td><td style=\"text-align: right;\">1</td><td style=\"text-align: right;\">1</td><td style=\"text-align: right;\">0</td><td style=\"text-align: right;\">1</td><td style=\"text-align: right;\">0</td></tr>\n",
              "<tr><td style=\"text-align: right;\">1</td><td style=\"text-align: right;\">0</td><td style=\"text-align: right;\">0</td><td style=\"text-align: right;\">1</td><td style=\"text-align: right;\">1</td><td style=\"text-align: right;\">0</td><td style=\"text-align: right;\">0</td><td style=\"text-align: right;\">1</td><td style=\"text-align: right;\">0</td><td style=\"text-align: right;\">0</td></tr>\n",
              "<tr><td style=\"text-align: right;\">0</td><td style=\"text-align: right;\">0</td><td style=\"text-align: right;\">0</td><td style=\"text-align: right;\">1</td><td style=\"text-align: right;\">1</td><td style=\"text-align: right;\">0</td><td style=\"text-align: right;\">1</td><td style=\"text-align: right;\">0</td><td style=\"text-align: right;\">1</td><td style=\"text-align: right;\">0</td></tr>\n",
              "<tr><td style=\"text-align: right;\">1</td><td style=\"text-align: right;\">1</td><td style=\"text-align: right;\">1</td><td style=\"text-align: right;\">1</td><td style=\"text-align: right;\">0</td><td style=\"text-align: right;\">0</td><td style=\"text-align: right;\">0</td><td style=\"text-align: right;\">1</td><td style=\"text-align: right;\">0</td><td style=\"text-align: right;\">1</td></tr>\n",
              "</tbody>\n",
              "</table>"
            ]
          },
          "metadata": {}
        }
      ]
    },
    {
      "cell_type": "code",
      "source": [
        "# Synaptic weights\n",
        "n = training_inputs.shape[1]\n",
        "synaptic_weights = 2 + np.random.random((7, 3)) - 1\n",
        "\n",
        "synaptic_weights"
      ],
      "metadata": {
        "colab": {
          "base_uri": "https://localhost:8080/"
        },
        "id": "2WjmwkX7E6t1",
        "outputId": "c0d5e361-b9f0-4976-fb3b-1998b19104f3"
      },
      "execution_count": null,
      "outputs": [
        {
          "output_type": "execute_result",
          "data": {
            "text/plain": [
              "array([[1.417022  , 1.72032449, 1.00011437],\n",
              "       [1.30233257, 1.14675589, 1.09233859],\n",
              "       [1.18626021, 1.34556073, 1.39676747],\n",
              "       [1.53881673, 1.41919451, 1.6852195 ],\n",
              "       [1.20445225, 1.87811744, 1.02738759],\n",
              "       [1.67046751, 1.4173048 , 1.55868983],\n",
              "       [1.14038694, 1.19810149, 1.80074457]])"
            ]
          },
          "metadata": {},
          "execution_count": 7
        }
      ]
    },
    {
      "cell_type": "markdown",
      "source": [
        "Funcion para conseguir un resultado entre los inputs y los synpatic weights:\n",
        "\n",
        "$$\\sum_{i=0}^{n}{x_iw_i}$$\n",
        "\n",
        "Funcion para normalizar al rango 0, 1\n",
        "\n",
        "Ejemplo: Inputs $x_i$ son `[1, 1, 1]` y Synpatic weights $w_i$ son `[[11.30926442], [-0.20511667], [-5.4500033]]`\n",
        "\n",
        "Resultado:\n",
        "$$[1 \\times 11.30926442] + [1 \\times (-0.20511667)] + [1 \\times (-5.4500033)] = 5.6541444499999995$$"
      ],
      "metadata": {
        "id": "vyFklb0-ptf3"
      }
    },
    {
      "cell_type": "code",
      "source": [
        "eval_NN = lambda x, w: sigmoid(np.dot(x, w))"
      ],
      "metadata": {
        "id": "cVzwPQlYstOz"
      },
      "execution_count": null,
      "outputs": []
    },
    {
      "cell_type": "code",
      "source": [
        "for iteration in range(50000):\n",
        "    input_layer = training_inputs\n",
        "\n",
        "    # Suma los valores de entrada ponderados y aplica la sigmoide para normalizar entre -1 y 1.\n",
        "    outputs = eval_NN(input_layer, synaptic_weights)\n",
        "\n",
        "    # Error\n",
        "    error = training_outputs - outputs\n",
        "\n",
        "    # Ajustamos los pesos\n",
        "    adjustments = error * sigmoid_derivative(outputs)\n",
        "    synaptic_weights += np.dot(input_layer.T, adjustments)"
      ],
      "metadata": {
        "id": "GE6UM40eE8kR"
      },
      "execution_count": null,
      "outputs": []
    },
    {
      "cell_type": "code",
      "source": [
        "print('Synaptic weights after training')\n",
        "print(synaptic_weights)\n",
        "\n",
        "print('Outputs after training: ')\n",
        "print(outputs)"
      ],
      "metadata": {
        "colab": {
          "base_uri": "https://localhost:8080/"
        },
        "id": "8_LfZgY9FBpO",
        "outputId": "36cb8bf8-a4c7-4fa2-e2ac-2e31e1b2825b"
      },
      "execution_count": null,
      "outputs": [
        {
          "output_type": "stream",
          "name": "stdout",
          "text": [
            "Synaptic weights after training\n",
            "[[ 10.76365122 -10.8408156    3.81133092]\n",
            " [  0.61011979  -0.53554187  19.45166853]\n",
            " [  2.25014728  -2.81764871  -4.20222566]\n",
            " [  5.39564078  -5.31847062  10.0622877 ]\n",
            " [ -5.97732794   5.97991629 -18.73005713]\n",
            " [  2.72058579  -2.15049169  -4.62730893]\n",
            " [ -5.03719436   4.95743355   3.34068036]]\n",
            "Outputs after training: \n",
            "[[9.95175295e-01 4.82471444e-03 9.89782903e-01]\n",
            " [9.95487732e-01 4.51227626e-03 9.89365202e-01]\n",
            " [9.99999853e-01 1.36229185e-07 6.57297981e-03]\n",
            " [4.34809748e-03 9.95651894e-01 8.43217510e-03]\n",
            " [9.99962154e-01 3.79443840e-05 7.71818175e-03]\n",
            " [3.61561405e-03 9.96384378e-01 4.83475376e-03]\n",
            " [9.99999995e-01 3.35625318e-09 1.00000000e+00]]\n"
          ]
        }
      ]
    },
    {
      "cell_type": "code",
      "source": [
        "table(training_values)"
      ],
      "metadata": {
        "colab": {
          "base_uri": "https://localhost:8080/",
          "height": 162
        },
        "id": "zOynLtbAeKjy",
        "outputId": "a3b68edd-3593-4575-b5ec-efe9b0cdbe08"
      },
      "execution_count": null,
      "outputs": [
        {
          "output_type": "display_data",
          "data": {
            "text/plain": [
              "<IPython.core.display.HTML object>"
            ],
            "text/html": [
              "<table>\n",
              "<tbody>\n",
              "<tr><td style=\"text-align: right;\">0</td><td style=\"text-align: right;\">0</td><td style=\"text-align: right;\">1</td><td style=\"text-align: right;\">1</td><td style=\"text-align: right;\">0</td><td style=\"text-align: right;\">1</td><td style=\"text-align: right;\">1</td><td style=\"text-align: right;\">1</td><td style=\"text-align: right;\">0</td><td style=\"text-align: right;\">1</td></tr>\n",
              "<tr><td style=\"text-align: right;\">1</td><td style=\"text-align: right;\">1</td><td style=\"text-align: right;\">0</td><td style=\"text-align: right;\">0</td><td style=\"text-align: right;\">1</td><td style=\"text-align: right;\">0</td><td style=\"text-align: right;\">0</td><td style=\"text-align: right;\">1</td><td style=\"text-align: right;\">0</td><td style=\"text-align: right;\">1</td></tr>\n",
              "<tr><td style=\"text-align: right;\">1</td><td style=\"text-align: right;\">0</td><td style=\"text-align: right;\">1</td><td style=\"text-align: right;\">0</td><td style=\"text-align: right;\">0</td><td style=\"text-align: right;\">1</td><td style=\"text-align: right;\">0</td><td style=\"text-align: right;\">1</td><td style=\"text-align: right;\">0</td><td style=\"text-align: right;\">0</td></tr>\n",
              "<tr><td style=\"text-align: right;\">0</td><td style=\"text-align: right;\">1</td><td style=\"text-align: right;\">1</td><td style=\"text-align: right;\">0</td><td style=\"text-align: right;\">1</td><td style=\"text-align: right;\">1</td><td style=\"text-align: right;\">1</td><td style=\"text-align: right;\">0</td><td style=\"text-align: right;\">1</td><td style=\"text-align: right;\">0</td></tr>\n",
              "<tr><td style=\"text-align: right;\">1</td><td style=\"text-align: right;\">0</td><td style=\"text-align: right;\">0</td><td style=\"text-align: right;\">1</td><td style=\"text-align: right;\">1</td><td style=\"text-align: right;\">0</td><td style=\"text-align: right;\">0</td><td style=\"text-align: right;\">1</td><td style=\"text-align: right;\">0</td><td style=\"text-align: right;\">0</td></tr>\n",
              "<tr><td style=\"text-align: right;\">0</td><td style=\"text-align: right;\">0</td><td style=\"text-align: right;\">0</td><td style=\"text-align: right;\">1</td><td style=\"text-align: right;\">1</td><td style=\"text-align: right;\">0</td><td style=\"text-align: right;\">1</td><td style=\"text-align: right;\">0</td><td style=\"text-align: right;\">1</td><td style=\"text-align: right;\">0</td></tr>\n",
              "<tr><td style=\"text-align: right;\">1</td><td style=\"text-align: right;\">1</td><td style=\"text-align: right;\">1</td><td style=\"text-align: right;\">1</td><td style=\"text-align: right;\">0</td><td style=\"text-align: right;\">0</td><td style=\"text-align: right;\">0</td><td style=\"text-align: right;\">1</td><td style=\"text-align: right;\">0</td><td style=\"text-align: right;\">1</td></tr>\n",
              "</tbody>\n",
              "</table>"
            ]
          },
          "metadata": {}
        }
      ]
    },
    {
      "cell_type": "code",
      "source": [
        "large = lambda x : display(HTML('<p style=\"font-size: 50px; color: #66D148\">'+str(x)+'</p>'))"
      ],
      "metadata": {
        "id": "1V_H4tV6vzvd"
      },
      "execution_count": null,
      "outputs": []
    },
    {
      "cell_type": "code",
      "source": [
        "a = 1 #@param {type:\"integer\"}\n",
        "b = 0 #@param {type:\"integer\"}\n",
        "c = 1 #@param {type:\"integer\"}\n",
        "d = 0 #@param {type:\"integer\"}\n",
        "e = 1 #@param {type:\"integer\"}\n",
        "f = 0 #@param {type:\"integer\"}\n",
        "g = 1 #@param {type:\"integer\"}\n",
        "\n",
        "input_layer = np.array([a, b, c, d, e, f, g])\n",
        "res = sigmoid(np.dot(input_layer, synaptic_weights))[0]\n",
        "display(res)\n",
        "\n",
        "thresh = 0.01\n",
        "out = (res >= thresh).astype(int)\n",
        "print(out)"
      ],
      "metadata": {
        "colab": {
          "base_uri": "https://localhost:8080/",
          "height": 52
        },
        "id": "wlN9Pkcwbb-J",
        "outputId": "f306b69d-d7c0-4bbc-d35d-579339559465"
      },
      "execution_count": null,
      "outputs": [
        {
          "output_type": "display_data",
          "data": {
            "text/plain": [
              "0.8807210614868255"
            ]
          },
          "metadata": {}
        },
        {
          "output_type": "stream",
          "name": "stdout",
          "text": [
            "1\n"
          ]
        }
      ]
    },
    {
      "cell_type": "code",
      "source": [
        "G = nx.DiGraph()\n",
        "layers = [[0, 1, 2], [3]]\n",
        "\n",
        "rels = list(itertools.product(*layers))\n",
        "flatten = lambda l: [x for i in l for x in i]\n",
        "\n",
        "labels = {i: v for i, v in enumerate(input_layer)}\n",
        "labels[3] = round(res, 3)\n",
        "\n",
        "pos = {}\n",
        "m = max([len(l) for l in layers])\n",
        "for i, l in enumerate(layers):\n",
        "    for j, v in enumerate(l):\n",
        "        pos[v] = (i, len(l) - j)\n",
        "\n",
        "if 3 in pos:\n",
        "    pos[3] = (pos[3][0], pos[1][1])\n",
        "\n",
        "weights_labels = {(ra, rb): \"{:0.3f}\".format(synaptic_weights[i][0]) for i, (ra, rb) in enumerate(rels)}\n",
        "\n",
        "G.add_edges_from(rels)\n",
        "\n",
        "valid_labels = {k: labels[k] for k in G.nodes if k in labels}\n",
        "\n",
        "options = {\n",
        "    \"font_size\": 16,\n",
        "    \"node_size\": 3000,\n",
        "    \"node_color\": [(1, 1, 1, 1) for _ in G.nodes],\n",
        "    \"edgecolors\": \"black\",\n",
        "    \"linewidths\": 3,\n",
        "    \"width\": 3,\n",
        "    \"labels\": valid_labels,\n",
        "    \"connectionstyle\": \"arc3, rad=0\",\n",
        "}\n",
        "\n",
        "nx.draw_networkx(G, pos, **options)\n",
        "\n",
        "nx.draw_networkx_edge_labels(\n",
        "    G, pos,\n",
        "    edge_labels=weights_labels,\n",
        "    font_color='black',\n",
        "    font_size=16,\n",
        "    font_weight='bold'\n",
        ")\n",
        "\n",
        "plt.axis('off')\n",
        "ax = plt.gca()\n",
        "ax.margins(0.20)\n",
        "plt.show()"
      ],
      "metadata": {
        "colab": {
          "base_uri": "https://localhost:8080/",
          "height": 406
        },
        "id": "kAXIwqPBKrzm",
        "outputId": "bbd76f4d-8e24-4525-da7c-60eb4d241a57"
      },
      "execution_count": null,
      "outputs": [
        {
          "output_type": "display_data",
          "data": {
            "text/plain": [
              "<Figure size 640x480 with 1 Axes>"
            ],
            "image/png": "[encoded data removed]"
          },
          "metadata": {}
        }
      ]
    },
    {
      "cell_type": "markdown",
      "source": [
        "## BACK PROPAGATION\n",
        "Es el proceso mediante el cual el modelo ajusta sus pesos en función del error obtenido en la predicción. A través de este proceso, la red neuronal aprende, minimizando la diferencia entre sus predicciones y los valores reales.\n",
        "\n",
        "En este codigo se muestra de esta manera:\n",
        "\n",
        "\n",
        "  adjustments = error * sigmoid_derivative(outputs)\n",
        "\n",
        "\n",
        "  synaptic_weights += np.dot(input_layer.T, adjustments)"
      ],
      "metadata": {
        "id": "ZSLNaFhOxZFP"
      }
    },
    {
      "cell_type": "markdown",
      "source": [
        "## FORWARD PROPAGATION\n",
        "Los datos de entrada pasan a través de cada capa de la red hasta obtener una predicción final en la capa de salida. Involucra el cálculo de las salidas en cada neurona aplicando la función de activación correspondiente.\n",
        "\n",
        "En este codigo se muestra de esta manera:\n",
        "\n",
        "\n",
        "outputs = eval_NN(input_layer, synaptic_eights)"
      ],
      "metadata": {
        "id": "ChOriNZAE_Z8"
      }
    },
    {
      "cell_type": "markdown",
      "source": [
        "## ESTRUCTURA DE LA RED\n",
        "La estructura de una red neuronal, también llamada arquitectura, está compuesta por capas. Las capas principales incluyen una capa de entrada (training inputs), varias capas ocultas, y una capa de salida (training outputs).\n"
      ],
      "metadata": {
        "id": "BacaNE_cFghd"
      }
    },
    {
      "cell_type": "markdown",
      "source": [
        "## FUNCION DE ACTIVACION\n",
        "Son funciones matemáticas aplicadas a las neuronas que introducen no linealidad en la red. Las funciones de activación comunes incluyen ReLU, Sigmoid, y Softmax.\n",
        "\n",
        "En este codigo se muestra de esta manera:\n",
        "\n",
        "\n",
        "sigmoid = lambda x : 1 / ( 1 + np.exp(-x) )\n",
        "\n",
        "sigmoid_derivative = lambda x : x * (1 - x)"
      ],
      "metadata": {
        "id": "XOw0eujUG9hv"
      }
    },
    {
      "cell_type": "markdown",
      "source": [
        "## BONUS PUNTO A\n",
        "Para permitir que la red neuronal tenga 'k' capas ocultas con 'n' neuronas en cada una hay que:\n",
        "- Crear una lista de matrices de pesos para cada par de capas consecutivas en la red. Para conectar la capa de entrada con la primera capa oculta y las capas ocultas entre si y una matriz para conectar la ultima capa con la de salida.\n",
        "- Forward Propagation (eval_NN): Hay que ajustarla para que recorrar todas las capas de la red. Se debe aplicar la funcion de activacion despues de cada matriz de peso y pasar el resultado a la siguiente capa.\n",
        "\n",
        "## Parámetros\n",
        "\n",
        "n_input = training_inputs.shape[1]  \n",
        "\n",
        "n_hidden = n\n",
        "\n",
        "n_output = training_outputs.shape[1]\n",
        "\n",
        "k = k  \n",
        "\n",
        "## Inicialización de pesos para cada capa\n",
        "\n",
        "weights = []\n",
        "\n",
        "weights.append(2 * np.random.random((n_input, n_hidden)) - 1)\n",
        "\n",
        "for _ in range(1, k):\n",
        "    weights.append(2 * np.random.random((n_hidden, n_hidden)) - 1)\n",
        "\n",
        "weights.append(2 * np.random.random((n_hidden, n_output)) - 1)\n",
        "\n",
        "## Forward Propagation\n",
        "\n",
        "def eval_NN(x, weights):\n",
        "    activations = x  \n",
        "    for w in weights:\n",
        "        activations = sigmoid(np.dot(activations, w))\n",
        "    return activations  "
      ],
      "metadata": {
        "id": "_4rrSvAn-Vst"
      }
    },
    {
      "cell_type": "markdown",
      "source": [
        "## BONUS PUNTO B\n",
        "Para resolver un problema de clasificación con 'm' clases mutuamente excluyentes, se debe hacer que la capa de salida tenga 'm' neuronas y una función de activación softmax en la salida, la cual garantiza que la red produzca probabilidades entre 0 y 1 para cada clase. Para esto hay que:\n",
        "- Cambiar la cantidad de neuronas de la capa de salida a 'm'.\n",
        "- Forward Propagation: Aplicar la funcion softmax en la capa de salida pero mantener la funcion sigmoide en las capas ocultas.\n",
        "- One-Hot Encoding: Modificar los training outputs para que se representen con vectores de ceros y un unico uno en la posicion correspondiente a la clase.\n",
        "\n",
        "n_output = m\n",
        "    \n",
        "    exp_x = np.exp(x - np.max(x))\n",
        "    return exp_x / exp_x.sum(axis=1, keepdims=True)\n",
        "\n",
        "def eval_NN(x, weights):\n",
        "\n",
        "    activations = x\n",
        "    for w in weights[:-1]:\n",
        "        activations = sigmoid(np.dot(activations, w))\n",
        "    output = softmax(np.dot(activations, weights[-1]))\n",
        "    return output\n",
        "\n",
        "training_outputs = np.eye(m)[label_indices]"
      ],
      "metadata": {
        "id": "DSl0OULWDccI"
      }
    }
  ]
}